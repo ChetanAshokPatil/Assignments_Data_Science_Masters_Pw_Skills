{
 "cells": [
  {
   "cell_type": "markdown",
   "id": "b193a5d0-2fb6-4819-bb27-bfb64c890bb6",
   "metadata": {},
   "source": [
    "Que 1 : What is multithreading in python? Why is it used? Name the module used to handle threads in python"
   ]
  },
  {
   "cell_type": "markdown",
   "id": "691c7448-59a3-4382-9874-48eb11a2130a",
   "metadata": {},
   "source": [
    "Que 1 Answer :\n",
    "Multithreading in Python refers to the ability of the Python interpreter to execute multiple threads concurrently within a single process. A thread is a sequence of instructions that can be executed independently of other threads.\n",
    "\n",
    "Multithreading is used in Python to perform tasks that can be executed concurrently and can benefit from parallel execution, such as I/O bound tasks like network requests or disk access, or CPU-bound tasks like data processing or image manipulation. By using threads, Python programs can make better use of available resources and can be more responsive to user input.\n",
    "\n",
    "The module used to handle threads in Python is called \"threading\". This module provides a way to create and manage threads in Python programs. It includes a Thread class that can be subclassed to define new threads, and functions to start, stop, and join threads. The threading module also provides several synchronization primitives, such as locks and semaphores, to help manage access to shared resources between threads."
   ]
  },
  {
   "cell_type": "markdown",
   "id": "f8cc6752-6224-4def-8e5b-83113869f203",
   "metadata": {},
   "source": [
    "Que 2 : Why threading module used? Write the use of the following functions\n",
    "1.activeCount\n",
    "2.currentThread\n",
    "3.enumerate"
   ]
  },
  {
   "cell_type": "markdown",
   "id": "d4dc9426-b4b3-443d-96d8-ce956a106f73",
   "metadata": {},
   "source": [
    "Que 2 Answer :\n",
    "The threading module is used in Python to create and manage threads within a program. This module provides a way to write concurrent programs in Python that can take advantage of multiple CPU cores and can perform multiple tasks concurrently.\n",
    "\n",
    "Here are the uses of some of the functions provided by the threading module:\n",
    "\n",
    "activeCount(): This function returns the number of currently active threads in the current process. It can be useful for debugging and monitoring purposes to keep track of the number of threads that are currently executing.\n",
    "\n",
    "currentThread(): This function returns a reference to the current thread object. It can be used to get information about the current thread, such as its name, ID, or other attributes.\n",
    "\n",
    "enumerate(): This function returns a list of all active thread objects in the current process. Each thread object is represented as an instance of the Thread class. This function can be useful for debugging and monitoring purposes, to get a list of all threads that are currently executing in the program."
   ]
  },
  {
   "cell_type": "markdown",
   "id": "35e33e0b-4d34-4a40-bb04-46b561e3b1a9",
   "metadata": {},
   "source": [
    "Que 3 : Explain the following functions\n",
    "1.run\n",
    "2.start\n",
    "3.join\n",
    "4.isAlive"
   ]
  },
  {
   "cell_type": "markdown",
   "id": "999a80b7-1d96-48ff-a7e4-9012afc10011",
   "metadata": {},
   "source": [
    "Que 3 Answer :\n",
    "The threading module in Python provides several functions to create and manage threads. Here are the explanations of some of the functions related to thread management:\n",
    "\n",
    "run(): This function is called when a thread starts running. It contains the code that will be executed by the thread. The run() function should be overridden in a subclass of the Thread class to define the behavior of the thread.\n",
    "\n",
    "start(): This function starts the execution of a thread. When this function is called, the run() method of the thread is invoked in a separate thread of execution. The start() method should only be called once per thread object, and it can be called from the main thread or from another thread.\n",
    "\n",
    "join(): This function blocks the calling thread until the thread on which it is called has completed its execution. When the join() method is called on a thread object, the calling thread is suspended until the specified thread terminates. If the thread has already terminated, the join() method returns immediately.\n",
    "\n",
    "isAlive(): This function returns a Boolean value indicating whether the thread is currently executing or not. If the thread is currently running, this function returns True. If the thread has completed its execution or has not yet been started, it returns False. This function can be used to check whether a thread is still active or has completed its execution."
   ]
  },
  {
   "cell_type": "markdown",
   "id": "93716ec3-02a6-46bd-b5db-0e88a00d729d",
   "metadata": {},
   "source": [
    "Que 4 :Write a python program to create two threads. Thread one must print the list of squares and thread \n",
    "two must print the list of cubes."
   ]
  },
  {
   "cell_type": "code",
   "execution_count": 5,
   "id": "e9cf5eb5-17d9-4946-9ece-1a519180a6ed",
   "metadata": {},
   "outputs": [
    {
     "name": "stdout",
     "output_type": "stream",
     "text": [
      "1 square is = 1\n",
      "2 square is = 4\n",
      "3 square is = 9\n",
      "4 square is = 16\n",
      "5 square is = 25\n",
      "6 square is = 36\n",
      "7 square is = 49\n",
      "8 square is = 64\n",
      "9 square is = 81\n",
      "10 square is = 100\n",
      "1 cube is = 1\n",
      "2 cube is = 8\n",
      "3 cube is = 27\n",
      "4 cube is = 64\n",
      "5 cube is = 125\n",
      "6 cube is = 216\n",
      "7 cube is = 343\n",
      "8 cube is = 512\n",
      "9 cube is = 729\n",
      "10 cube is = 1000\n"
     ]
    }
   ],
   "source": [
    "import threading\n",
    "\n",
    "def print_squares():\n",
    "    for i in range(1, 11):\n",
    "        print(f\"{i} square is = {i*i}\")\n",
    "\n",
    "def print_cubes():\n",
    "    for i in range(1, 11):\n",
    "        print(f\"{i} cube is = {i*i*i}\")\n",
    "\n",
    "t1 = threading.Thread(target=print_squares)\n",
    "t2 = threading.Thread(target=print_cubes)\n",
    "\n",
    "t1.start()\n",
    "t2.start()\n",
    "\n",
    "t1.join()\n",
    "t2.join()\n"
   ]
  },
  {
   "cell_type": "markdown",
   "id": "fa254a71-4e3b-450f-a203-624194a2cfc2",
   "metadata": {},
   "source": [
    "Que 5 : State advantages and disadvantages of multithreading."
   ]
  },
  {
   "cell_type": "markdown",
   "id": "b0bcb85b-1478-4119-acb5-f3aed9fa0a53",
   "metadata": {},
   "source": [
    "Que 5 Answer:\n",
    "Multithreading is the ability of an operating system or programming language to manage multiple threads of execution simultaneously within a single process. While multithreading offers many benefits, it also has some drawbacks. Below are the advantages and disadvantages of multithreading:\n",
    "\n",
    "Advantages:\n",
    "\n",
    "Improved performance: Multithreading can significantly improve performance in applications that can take advantage of multiple cores or CPUs by allowing different threads to run simultaneously. This can lead to faster execution times and improved response times for users.\n",
    "\n",
    "Better resource utilization: Multithreading can help better utilize resources, such as CPU time and memory, by allowing multiple threads to share them efficiently.\n",
    "\n",
    "Enhanced responsiveness: Multithreading can improve the responsiveness of an application by allowing it to perform multiple tasks concurrently, such as handling user input, updating the user interface, and performing background tasks.\n",
    "\n",
    "Simplified programming: Multithreading can make programming simpler by allowing developers to focus on the individual threads rather than the overall application logic.\n",
    "\n",
    "Disadvantages:\n",
    "\n",
    "Increased complexity: Multithreading can increase the complexity of an application, making it more difficult to design, develop, and test. This is because it introduces new issues, such as thread synchronization and deadlock, that must be managed correctly.\n",
    "\n",
    "Harder debugging: Debugging multithreaded applications can be much more challenging than debugging single-threaded applications due to the complex interactions between threads.\n",
    "\n",
    "Resource contention: Multithreading can lead to resource contention issues, where multiple threads compete for the same resources, such as memory or CPU time. This can result in decreased performance and increased latency.\n",
    "\n",
    "Unpredictable behavior: Multithreading can lead to unpredictable behavior if the threads are not properly synchronized, leading to race conditions and other concurrency issues that can be difficult to detect and debug.\n",
    "\n",
    "In summary, multithreading offers many benefits, such as improved performance and better resource utilization, but it also has some drawbacks, such as increased complexity and the potential for unpredictable behavior. Therefore, it is important to carefully consider the advantages and disadvantages of multithreading when deciding whether to use it in an application."
   ]
  },
  {
   "cell_type": "markdown",
   "id": "7519d582-252b-45d5-a238-1abd15d0ea4f",
   "metadata": {},
   "source": [
    "Que 6 :Explain deadlocks and race conditions."
   ]
  },
  {
   "cell_type": "markdown",
   "id": "6fc15f9a-d81d-47b2-8ae0-1fcdda070f43",
   "metadata": {},
   "source": [
    "Que 6 Answer :\n",
    "Deadlocks and race conditions are common concurrency issues that can occur in multithreaded programs, including those written in Python.\n",
    "\n",
    "Deadlock occurs when two or more threads are blocked, waiting for each other to release resources that they hold. This can occur when two threads acquire different resources but need access to the other's resource to proceed, creating a circular wait condition. As a result, neither thread can make progress, and the application becomes stuck in a deadlock.\n",
    "\n",
    "Here's an example of a deadlock in Python:"
   ]
  },
  {
   "cell_type": "code",
   "execution_count": 1,
   "id": "4973563b-f8d6-420f-ba5c-19c4827a5571",
   "metadata": {},
   "outputs": [],
   "source": [
    "import threading\n",
    "\n",
    "lock1 = threading.Lock()\n",
    "lock2 = threading.Lock()\n",
    "\n",
    "def thread1():\n",
    "    lock1.acquire()\n",
    "    lock2.acquire()\n",
    "    # Do some work\n",
    "    lock2.release()\n",
    "    lock1.release()\n",
    "\n",
    "def thread2():\n",
    "    lock2.acquire()\n",
    "    lock1.acquire()\n",
    "    # Do some work\n",
    "    lock1.release()\n",
    "    lock2.release()\n",
    "\n",
    "t1 = threading.Thread(target=thread1)\n",
    "t2 = threading.Thread(target=thread2)\n",
    "\n",
    "t1.start()\n",
    "t2.start()\n",
    "\n",
    "t1.join()\n",
    "t2.join()\n"
   ]
  },
  {
   "cell_type": "markdown",
   "id": "111e6b55-ad05-4736-a1d4-1e2f878d16f2",
   "metadata": {},
   "source": [
    "In this example, thread1 acquires lock1 and then lock2, while thread2 acquires lock2 and then lock1. If both threads are started at the same time, they will deadlock, as each thread is waiting for the other thread to release the lock it needs.\n",
    "\n",
    "Race conditions occur when two or more threads access shared resources simultaneously, leading to unpredictable behavior. This can occur when one thread performs a read-modify-write operation on a shared resource while another thread is also modifying the same resource.\n",
    "\n",
    "Here's an example of a race condition in Python:"
   ]
  },
  {
   "cell_type": "code",
   "execution_count": 3,
   "id": "33aad4c9-88ac-4d5d-8d51-8e07e8ff0697",
   "metadata": {},
   "outputs": [
    {
     "name": "stdout",
     "output_type": "stream",
     "text": [
      "Final count: 200000\n"
     ]
    }
   ],
   "source": [
    "import threading\n",
    "\n",
    "count = 0\n",
    "\n",
    "def increment():\n",
    "    global count\n",
    "    for i in range(100000):\n",
    "        count += 1\n",
    "\n",
    "t1 = threading.Thread(target=increment)\n",
    "t2 = threading.Thread(target=increment)\n",
    "\n",
    "t1.start()\n",
    "t2.start()\n",
    "\n",
    "t1.join()\n",
    "t2.join()\n",
    "\n",
    "print(f\"Final count: {count}\")\n"
   ]
  },
  {
   "cell_type": "markdown",
   "id": "080d81ca-3b25-429b-be5c-9117ee6ea8ce",
   "metadata": {},
   "source": [
    "In this example, two threads are running concurrently, incrementing the value of the count variable. Since the += operation is not atomic, a race condition occurs, and the final value of count is unpredictable. This can lead to incorrect behavior in the program, such as incorrect calculations or data corruption.\n",
    "\n",
    "To avoid deadlocks and race conditions in Python, it is important to use thread synchronization mechanisms such as locks, semaphores, and barriers, and to carefully design the program to avoid circular waits and data races."
   ]
  }
 ],
 "metadata": {
  "kernelspec": {
   "display_name": "Python 3 (ipykernel)",
   "language": "python",
   "name": "python3"
  },
  "language_info": {
   "codemirror_mode": {
    "name": "ipython",
    "version": 3
   },
   "file_extension": ".py",
   "mimetype": "text/x-python",
   "name": "python",
   "nbconvert_exporter": "python",
   "pygments_lexer": "ipython3",
   "version": "3.10.8"
  }
 },
 "nbformat": 4,
 "nbformat_minor": 5
}
