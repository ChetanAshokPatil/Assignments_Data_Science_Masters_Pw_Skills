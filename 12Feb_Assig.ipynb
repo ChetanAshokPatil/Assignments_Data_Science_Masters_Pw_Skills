{
 "cells": [
  {
   "cell_type": "markdown",
   "id": "67f5596b-8384-4e80-b040-8bac14ca2e44",
   "metadata": {},
   "source": [
    "Que 1 Answer : \n",
    "In Python, an exception is an error that occurs during the execution of a program. When an exception occurs, the normal flow of the program is disrupted, and Python creates an object known as an exception object, which contains information about the error.\n",
    "\n",
    "Exceptions are different from syntax errors, which occur when there is a mistake in the syntax of the program. Syntax errors are detected by the Python interpreter before the program is executed, and they prevent the program from running. In contrast, exceptions occur during program execution and can be handled by the program to prevent the program from crashing.\n",
    "\n",
    "Here are some key differences between exceptions and syntax errors:\n",
    "\n",
    "Detection time: Syntax errors are detected by the Python interpreter during the parsing of the program, before the program is executed. Exceptions occur during program execution, when a specific error condition is encountered.\n",
    "\n",
    "Prevention: Syntax errors prevent the program from running, whereas exceptions can be handled by the program to prevent the program from crashing.\n",
    "\n",
    "Cause: Syntax errors are caused by mistakes in the syntax of the program, such as missing or incorrect keywords, operators, or punctuation. Exceptions are caused by various runtime errors, such as division by zero, invalid input, or attempting to access an object that doesn't exist.\n",
    "\n",
    "Handling: Syntax errors must be fixed by correcting the syntax of the program. Exceptions can be handled by the program using try and except statements to catch the exception and perform some action to handle the error condition.\n",
    "\n",
    "In summary, while syntax errors are detected and prevent the program from running, exceptions are errors that occur during program execution and can be handled by the program using try and except statements to prevent the program from crashing."
   ]
  },
  {
   "cell_type": "markdown",
   "id": "d261c66d-1806-41e6-9567-f8cc529abd99",
   "metadata": {},
   "source": [
    "Que 2 Answer :\n",
    "When an exception is not handled in Python, it will propagate up the call stack until it is handled or it reaches the top of the call stack. If the exception reaches the top of the call stack without being handled, the program will terminate abruptly, and an error message will be displayed.\n",
    "\n",
    "Here's an example to illustrate what happens when an exception is not handled:"
   ]
  },
  {
   "cell_type": "code",
   "execution_count": 1,
   "id": "8f167766-d3dc-4e65-9800-fb9ee0bea5aa",
   "metadata": {},
   "outputs": [
    {
     "ename": "ZeroDivisionError",
     "evalue": "division by zero",
     "output_type": "error",
     "traceback": [
      "\u001b[0;31m---------------------------------------------------------------------------\u001b[0m",
      "\u001b[0;31mZeroDivisionError\u001b[0m                         Traceback (most recent call last)",
      "Cell \u001b[0;32mIn[1], line 6\u001b[0m\n\u001b[1;32m      4\u001b[0m a \u001b[38;5;241m=\u001b[39m \u001b[38;5;241m10\u001b[39m\n\u001b[1;32m      5\u001b[0m b \u001b[38;5;241m=\u001b[39m \u001b[38;5;241m0\u001b[39m\n\u001b[0;32m----> 6\u001b[0m c \u001b[38;5;241m=\u001b[39m \u001b[43mdivide\u001b[49m\u001b[43m(\u001b[49m\u001b[43ma\u001b[49m\u001b[43m,\u001b[49m\u001b[43m \u001b[49m\u001b[43mb\u001b[49m\u001b[43m)\u001b[49m\n",
      "Cell \u001b[0;32mIn[1], line 2\u001b[0m, in \u001b[0;36mdivide\u001b[0;34m(x, y)\u001b[0m\n\u001b[1;32m      1\u001b[0m \u001b[38;5;28;01mdef\u001b[39;00m \u001b[38;5;21mdivide\u001b[39m(x, y):\n\u001b[0;32m----> 2\u001b[0m     \u001b[38;5;28;01mreturn\u001b[39;00m \u001b[43mx\u001b[49m\u001b[43m \u001b[49m\u001b[38;5;241;43m/\u001b[39;49m\u001b[43m \u001b[49m\u001b[43my\u001b[49m\n",
      "\u001b[0;31mZeroDivisionError\u001b[0m: division by zero"
     ]
    }
   ],
   "source": [
    "def divide(x, y):\n",
    "    return x / y\n",
    "\n",
    "a = 10\n",
    "b = 0\n",
    "c = divide(a, b)\n"
   ]
  },
  {
   "cell_type": "markdown",
   "id": "57c59257-2fd3-4c73-9456-233f846f15da",
   "metadata": {},
   "source": [
    "In this code, the divide function attempts to divide x by y, but if y is zero, a ZeroDivisionError exception will be raised. In the main part of the code, the divide function is called with a = 10 and b = 0. Since dividing by zero is not allowed, a ZeroDivisionError exception will be raised."
   ]
  },
  {
   "cell_type": "markdown",
   "id": "86461f52-2c42-4504-a5a9-81a727d81313",
   "metadata": {},
   "source": [
    "Que 3 Answer :\n",
    "Python provides two statements to catch and handle exceptions: try and except.\n",
    "\n",
    "The try statement is used to enclose the code that may raise an exception. If an exception is raised inside the try block, Python looks for an except block that matches the type of the exception. If a matching except block is found, the code inside the except block is executed to handle the exception."
   ]
  },
  {
   "cell_type": "code",
   "execution_count": 4,
   "id": "8f71737d-6f57-43ed-b75a-929815d8a323",
   "metadata": {},
   "outputs": [
    {
     "name": "stdin",
     "output_type": "stream",
     "text": [
      "Enter a number:  0\n"
     ]
    },
    {
     "name": "stdout",
     "output_type": "stream",
     "text": [
      "You cannot divide by zero.\n"
     ]
    }
   ],
   "source": [
    "try:\n",
    "    x = int(input(\"Enter a number: \"))\n",
    "    y = 10 / x\n",
    "    print(\"The result is:\", y)\n",
    "except ZeroDivisionError:\n",
    "    print(\"You cannot divide by zero.\")\n",
    "except ValueError:\n",
    "    print(\"You must enter a valid integer.\")\n"
   ]
  },
  {
   "cell_type": "markdown",
   "id": "068cf832-0bf4-4bbd-8d35-b3ebc807c2dd",
   "metadata": {},
   "source": [
    "In this example, the try block attempts to convert user input to an integer and then divides 10 by that number. If the user enters a non-integer or zero, an exception will be raised.\n",
    "\n",
    "The except blocks catch the possible exceptions that can occur. If a ZeroDivisionError is raised, the first except block will be executed, which will print an appropriate message. If a ValueError is raised, the second except block will be executed, which will also print an appropriate message.\n",
    "\n",
    "By using try and except statements, we can gracefully handle exceptions that may occur during program execution, preventing the program from crashing and allowing us to provide informative error messages to the user."
   ]
  },
  {
   "cell_type": "markdown",
   "id": "98d7beaf-b190-45e5-99c0-3c6d58d0c44b",
   "metadata": {},
   "source": [
    "Que 4 Answer :\n",
    "try and except are used in Python for exception handling, i.e., handling errors that occur during program execution. In Python, exceptions are raised when errors occur at runtime. A try block is used to enclose the code that might generate an exception, and an except block is used to handle the exception if it is raised."
   ]
  },
  {
   "cell_type": "code",
   "execution_count": 4,
   "id": "589dfca3-f818-4e84-9c98-e56717d11cfe",
   "metadata": {},
   "outputs": [
    {
     "name": "stdin",
     "output_type": "stream",
     "text": [
      "Enter a number:  8\n",
      "Enter another number:  0\n"
     ]
    },
    {
     "name": "stdout",
     "output_type": "stream",
     "text": [
      "Cannot divide by zero!\n"
     ]
    }
   ],
   "source": [
    "try:\n",
    "    x = int(input(\"Enter a number: \"))\n",
    "    y = int(input(\"Enter another number: \"))\n",
    "    result = x / y\n",
    "    print(\"Result: \", result)\n",
    "except ZeroDivisionError:\n",
    "    print(\"Cannot divide by zero!\")\n"
   ]
  },
  {
   "cell_type": "markdown",
   "id": "d24cac19-a459-458f-ae4c-cbb90ace8b3f",
   "metadata": {},
   "source": [
    "'else' block is used after the try-except block and it will run only when no exception was raised during the try block."
   ]
  },
  {
   "cell_type": "code",
   "execution_count": 6,
   "id": "ae8b9c47-03f6-4a29-8ac6-4cd5f46363d1",
   "metadata": {},
   "outputs": [
    {
     "name": "stdin",
     "output_type": "stream",
     "text": [
      "Enter a number:  6\n",
      "Enter another number:  3\n"
     ]
    },
    {
     "name": "stdout",
     "output_type": "stream",
     "text": [
      "Result:  2.0\n"
     ]
    }
   ],
   "source": [
    "try:\n",
    "    x = int(input(\"Enter a number: \"))\n",
    "    y = int(input(\"Enter another number: \"))\n",
    "    result = x / y\n",
    "except ZeroDivisionError:\n",
    "    print(\"Cannot divide by zero!\")\n",
    "else:\n",
    "    print(\"Result: \", result)\n"
   ]
  },
  {
   "cell_type": "markdown",
   "id": "d87fea86-abfe-4525-a8df-da6386603ec8",
   "metadata": {},
   "source": [
    "'finally' block is used to specify a block of code that will be executed no matter what happens, whether an exception is raised or not."
   ]
  },
  {
   "cell_type": "code",
   "execution_count": null,
   "id": "9ba108ae-f6b8-4342-be53-42e3db0b16b9",
   "metadata": {},
   "outputs": [],
   "source": [
    "try:\n",
    "    f = open(\"example.txt\", \"r\")\n",
    "    # some code to read the file\n",
    "except IOError:\n",
    "    print(\"Error: File not found\")\n",
    "finally:\n",
    "    f.close()\n"
   ]
  },
  {
   "cell_type": "markdown",
   "id": "734af83b-b531-42f0-8299-303dba439531",
   "metadata": {},
   "source": [
    "'raise' is used to manually raise an exception."
   ]
  },
  {
   "cell_type": "code",
   "execution_count": 11,
   "id": "d219f7f9-5a10-48f5-9907-334306b8ab25",
   "metadata": {},
   "outputs": [
    {
     "name": "stdout",
     "output_type": "stream",
     "text": [
      "Error: Cannot divide by zero.\n"
     ]
    }
   ],
   "source": [
    "def divide(a, b):\n",
    "    if b == 0:\n",
    "        raise ValueError(\"Error: Cannot divide by zero.\")\n",
    "    return a / b\n",
    "\n",
    "try:\n",
    "    result = divide(10, 0)\n",
    "except ValueError as i:\n",
    "    print(i)"
   ]
  },
  {
   "cell_type": "markdown",
   "id": "251dea8a-0bdb-43c7-b794-4f7d065f7069",
   "metadata": {},
   "source": [
    "Que 5 Answer :\n",
    "In Python, you can create your own custom exceptions, which are also known as user-defined exceptions. Custom exceptions are created by deriving a new class from the base Exception class or any of its derived classes.\n",
    "\n",
    "Custom exceptions are used when you want to handle a specific type of error that is not covered by the built-in exceptions. They also provide a way to create a more descriptive error message that can help in debugging the code."
   ]
  },
  {
   "cell_type": "code",
   "execution_count": 14,
   "id": "6a44e386-a8ff-463d-bdba-aea3dcf0a3a7",
   "metadata": {},
   "outputs": [
    {
     "name": "stdout",
     "output_type": "stream",
     "text": [
      "Error: Cannot divide by zero.\n"
     ]
    }
   ],
   "source": [
    "class InvalidInputError(Exception):\n",
    "    def __init__(self, message):\n",
    "        self.message = message\n",
    "\n",
    "def divide(a, b):\n",
    "    if b == 0:\n",
    "        raise InvalidInputError(\"Error: Cannot divide by zero.\")\n",
    "    return a / b\n",
    "\n",
    "try:\n",
    "    result = divide(10, 0)\n",
    "except InvalidInputError as e:\n",
    "    print(e.message)"
   ]
  },
  {
   "cell_type": "code",
   "execution_count": 16,
   "id": "e2f91998-b35e-4e16-8971-16d799f49040",
   "metadata": {},
   "outputs": [
    {
     "name": "stdout",
     "output_type": "stream",
     "text": [
      "Cannot divide by zero\n"
     ]
    }
   ],
   "source": [
    "# Que 6 Answer :\n",
    "class CustomException(Exception):\n",
    "    pass\n",
    "def divide(x, y):\n",
    "    if y == 0:\n",
    "        raise CustomException(\"Cannot divide by zero\")\n",
    "    return x / y\n",
    "\n",
    "try:\n",
    "    result = divide(10, 0)\n",
    "except CustomException as e:\n",
    "    print(e)  # prints \"Cannot divide by zero\""
   ]
  },
  {
   "cell_type": "code",
   "execution_count": null,
   "id": "36049de0-73dc-4ba8-96f1-b5fa27b7ec44",
   "metadata": {},
   "outputs": [],
   "source": []
  }
 ],
 "metadata": {
  "kernelspec": {
   "display_name": "Python 3 (ipykernel)",
   "language": "python",
   "name": "python3"
  },
  "language_info": {
   "codemirror_mode": {
    "name": "ipython",
    "version": 3
   },
   "file_extension": ".py",
   "mimetype": "text/x-python",
   "name": "python",
   "nbconvert_exporter": "python",
   "pygments_lexer": "ipython3",
   "version": "3.10.8"
  }
 },
 "nbformat": 4,
 "nbformat_minor": 5
}
