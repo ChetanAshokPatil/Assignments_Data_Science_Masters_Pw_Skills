{
 "cells": [
  {
   "cell_type": "markdown",
   "id": "4a14d4ab-e408-4675-94cd-b7eb25de0b08",
   "metadata": {},
   "source": [
    "Que 1 Answer:\n",
    "In Python, the open() function is used to open a file. It takes two arguments: the first argument is the name of the file to be opened, and the second argument is the mode in which the file should be opened.\n",
    "\n",
    "There are several modes in which a file can be opened:\n",
    "\n",
    "r (read mode): This mode opens the file for reading. If the file doesn't exist, it will raise a FileNotFoundError error.\n",
    "\n",
    "w (write mode): This mode opens the file for writing. If the file already exists, it will be truncated (i.e., emptied). If the file doesn't exist, it will be created.\n",
    "\n",
    "a (append mode): This mode opens the file for appending. If the file already exists, new data will be written to the end of the file. If the file doesn't exist, it will be created.\n",
    "\n",
    "x (exclusive creation mode): This mode opens the file for exclusive creation. If the file already exists, it will raise a FileExistsError error. If the file doesn't exist, it will be created.\n",
    "\n",
    "b (binary mode): This mode opens the file in binary mode, which is used for reading and writing binary data.\n",
    "\n",
    "t (text mode): This mode opens the file in text mode, which is used for reading and writing text data. This is the default mode if no mode is specified.\n"
   ]
  },
  {
   "cell_type": "markdown",
   "id": "446104d9-b179-44d1-a43c-b37aff58fe2c",
   "metadata": {},
   "source": [
    "Que 2 Answer:\n",
    "In Python, the close() function is used to close a file that has been opened with the open() function. It's important to close a file after you've finished working with it, as leaving a file open can cause a number of problems."
   ]
  },
  {
   "cell_type": "code",
   "execution_count": 1,
   "id": "ed33fdd1-8bc2-46c5-9b38-df13a31ab864",
   "metadata": {},
   "outputs": [
    {
     "name": "stdout",
     "output_type": "stream",
     "text": [
      "I want to become a Data Scientist\n"
     ]
    }
   ],
   "source": [
    "#Que 3 Answer :\n",
    "with open(\"data_science.txt\", \"w\") as file:\n",
    "    # write the sentence to the file\n",
    "    file.write(\"I want to become a Data Scientist\")\n",
    "with open(\"data_science.txt\", \"r\") as file:\n",
    "    contents = file.read()\n",
    "print(contents)\n"
   ]
  },
  {
   "cell_type": "markdown",
   "id": "f8ca370b-fb90-4347-b4ab-ee0dee17ad2f",
   "metadata": {},
   "source": [
    "Que 4 Answer :\n",
    "In Python, there are several ways to read data from a file. Three commonly used methods are read(), readline(), and readlines(). Here's an explanation of each method, along with Python code examples:\n",
    "\n",
    "read() method: The read() method reads the entire contents of a file and returns it as a string. This method takes an optional argument that specifies the maximum number of bytes to read. If no argument is specified, the entire file is read."
   ]
  },
  {
   "cell_type": "code",
   "execution_count": null,
   "id": "c38347f1-5b4e-4a56-a986-7fe2a4dfc09c",
   "metadata": {},
   "outputs": [],
   "source": [
    "with open(\"data.txt\", \"r\") as file:\n",
    "    contents = file.read()\n",
    "print(contents)"
   ]
  },
  {
   "cell_type": "markdown",
   "id": "5609746f-c004-49a5-b990-74200d31cb23",
   "metadata": {},
   "source": [
    "readline() method: The readline() method reads one line from a file at a time. Each time the method is called, it reads the next line of the file. If the end of the file is reached, the method returns an empty string."
   ]
  },
  {
   "cell_type": "code",
   "execution_count": null,
   "id": "0007fe10-f7fe-4950-bae7-804b2444c760",
   "metadata": {},
   "outputs": [],
   "source": [
    "with open(\"data.txt\", \"r\") as file:\n",
    "    line1 = file.readline()\n",
    "    line2 = file.readline()\n",
    "print(line1)\n",
    "print(line2)"
   ]
  },
  {
   "cell_type": "markdown",
   "id": "3bf9789c-9e57-4344-b8db-a4514a43f0af",
   "metadata": {},
   "source": [
    "readlines() method: The readlines() method reads all the lines of a file and returns them as a list of strings. Each string in the list corresponds to a line in the file."
   ]
  },
  {
   "cell_type": "code",
   "execution_count": null,
   "id": "46d3ecc4-55a1-4a41-98b1-79f52adfe672",
   "metadata": {},
   "outputs": [],
   "source": [
    "with open(\"data.txt\", \"r\") as file:\n",
    "    lines = file.readlines()\n",
    "for line in lines:\n",
    "    print(line)\n"
   ]
  },
  {
   "cell_type": "markdown",
   "id": "93bf88c7-b599-4fae-aece-04001113e83e",
   "metadata": {},
   "source": [
    "Que 5 Answer :\n",
    "The with statement is used to open the file \"example.txt\" in read mode. The file object f is created and made available within the suite of the with statement. The code block within the suite can read from or write to the file as needed. Once the block is finished executing, the file is automatically closed by the with statement.\n",
    "\n",
    "The advantage of using with and open() together is that it simplifies the process of handling file I/O in Python, making code more concise, readable, and less prone to errors. When opening files without using with, it's necessary to manually close the file using the close() method after reading from or writing to it. This can be error-prone if the code encounters an exception or if the programmer forgets to close the file. In contrast, using with and open() together ensures that the file is closed properly, even if the code block within the with statement raises an exception or encounters some other error."
   ]
  },
  {
   "cell_type": "markdown",
   "id": "4b4e282c-44bf-40fc-91be-a79a7095e1ca",
   "metadata": {},
   "source": [
    "Que 6 Answer :\n",
    "The write() function is used to write a string to a file. It takes a single argument, which is the string to be written. The function writes the string to the current position in the file, and returns the number of characters written. If the file does not exist, it is created. If it does exist, any existing content in the file is overwritten."
   ]
  },
  {
   "cell_type": "code",
   "execution_count": null,
   "id": "b1bb9d67-03e2-4dc7-b0f3-b0aff9d0c3e1",
   "metadata": {},
   "outputs": [],
   "source": []
  }
 ],
 "metadata": {
  "kernelspec": {
   "display_name": "Python 3 (ipykernel)",
   "language": "python",
   "name": "python3"
  },
  "language_info": {
   "codemirror_mode": {
    "name": "ipython",
    "version": 3
   },
   "file_extension": ".py",
   "mimetype": "text/x-python",
   "name": "python",
   "nbconvert_exporter": "python",
   "pygments_lexer": "ipython3",
   "version": "3.10.8"
  }
 },
 "nbformat": 4,
 "nbformat_minor": 5
}
