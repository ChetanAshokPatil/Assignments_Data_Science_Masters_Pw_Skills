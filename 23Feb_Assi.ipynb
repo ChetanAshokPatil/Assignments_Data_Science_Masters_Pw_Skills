{
 "cells": [
  {
   "cell_type": "markdown",
   "id": "1acd87a6-796d-4289-8460-2070a30f372c",
   "metadata": {},
   "source": [
    "## Q1. Create a Pandas Series that contains the following data: 4, 8, 15, 16, 23, and 42. Then, print the series."
   ]
  },
  {
   "cell_type": "code",
   "execution_count": 1,
   "id": "0eca3448-96da-415e-a0e3-9ab03126bcb1",
   "metadata": {},
   "outputs": [
    {
     "name": "stdout",
     "output_type": "stream",
     "text": [
      "0     4\n",
      "1     8\n",
      "2    15\n",
      "3    16\n",
      "4    23\n",
      "5    42\n",
      "dtype: int64\n"
     ]
    }
   ],
   "source": [
    "import pandas as pd\n",
    "s = pd.Series([4, 8, 15, 16, 23, 42])\n",
    "print(s)"
   ]
  },
  {
   "cell_type": "markdown",
   "id": "3f652ff3-5706-463e-b653-408080eeb453",
   "metadata": {},
   "source": [
    "## Q2. Create a variable of list type containing 10 elements in it, and apply pandas.Series function on the variable print it."
   ]
  },
  {
   "cell_type": "code",
   "execution_count": 3,
   "id": "bf06e268-c3d5-4f16-ae78-07a6621b430b",
   "metadata": {},
   "outputs": [
    {
     "name": "stdout",
     "output_type": "stream",
     "text": [
      "0     10\n",
      "1     20\n",
      "2     30\n",
      "3     40\n",
      "4     50\n",
      "5     60\n",
      "6     70\n",
      "7     80\n",
      "8     90\n",
      "9    100\n",
      "dtype: int64\n"
     ]
    }
   ],
   "source": [
    "l = [10, 20, 30, 40, 50, 60, 70, 80, 90, 100]\n",
    "\n",
    "series = pd.Series(l)\n",
    "print(series)"
   ]
  },
  {
   "cell_type": "markdown",
   "id": "d9462fca-3957-4da8-bc87-676e290fbecf",
   "metadata": {},
   "source": [
    "## Q3. Create a Pandas DataFrame that contains the following data. Then, print the DataFrame."
   ]
  },
  {
   "cell_type": "code",
   "execution_count": 4,
   "id": "80ff35f5-f513-47a7-9f23-b2861a77f653",
   "metadata": {},
   "outputs": [
    {
     "name": "stdout",
     "output_type": "stream",
     "text": [
      "     Name  Age  Gender\n",
      "0  Heramb    3    Male\n",
      "1  Varsha   27  Female\n",
      "2  Chetan   37    Male\n"
     ]
    }
   ],
   "source": [
    "import pandas as pd\n",
    "\n",
    "data = {'Name': ['Heramb', 'Varsha', 'Chetan'],\n",
    "        'Age': [3, 27, 37],\n",
    "        'Gender': ['Male', 'Female', 'Male']}\n",
    "\n",
    "df = pd.DataFrame(data)\n",
    "print(df)"
   ]
  },
  {
   "cell_type": "markdown",
   "id": "d968b5ee-8d68-4aeb-be65-4a69c9f2ef38",
   "metadata": {},
   "source": [
    "## Q4. What is ‘DataFrame’ in pandas and how is it different from pandas.series? Explain with an example."
   ]
  },
  {
   "cell_type": "markdown",
   "id": "fc8cf875-5389-44e0-8514-cf4aeff5fe4f",
   "metadata": {},
   "source": [
    "In Pandas, a DataFrame is a 2-dimensional labeled data structure with columns of potentially different data types, similar to a spreadsheet or SQL table. It is a primary object in Pandas and is used to represent and manipulate data with rows and columns.\n",
    "\n",
    "On the other hand, a Pandas Series is a one-dimensional labeled array capable of holding any data type. It is similar to a column in a DataFrame or a single vector in R.\n",
    "\n",
    "Here's an example to illustrate the difference between a DataFrame and a Series:"
   ]
  },
  {
   "cell_type": "code",
   "execution_count": 6,
   "id": "ece50bea-ab43-4e57-abdc-17832439521d",
   "metadata": {},
   "outputs": [
    {
     "name": "stdout",
     "output_type": "stream",
     "text": [
      "DataFrame:\n",
      "     Name  Age  Gender\n",
      "0  Heramb    3    Male\n",
      "1  Varsha   27  Female\n",
      "2  Chetan   37    Male\n",
      "\n",
      "Series:\n",
      "0     3\n",
      "1    27\n",
      "2    37\n",
      "Name: Age, dtype: int64\n"
     ]
    }
   ],
   "source": [
    "data = {'Name': ['Heramb', 'Varsha', 'Chetan'],\n",
    "        'Age': [3, 27, 37],\n",
    "        'Gender': ['Male', 'Female', 'Male']}\n",
    "\n",
    "df = pd.DataFrame(data)\n",
    "ages = df['Age']\n",
    "\n",
    "print(\"DataFrame:\")\n",
    "print(df)\n",
    "print()\n",
    "print(\"Series:\")\n",
    "print(ages)"
   ]
  },
  {
   "cell_type": "markdown",
   "id": "9544546b-4350-4cbd-ba0b-7adb36210414",
   "metadata": {},
   "source": [
    "## Q5. What are some common functions you can use to manipulate data in a Pandas DataFrame? Can you give an example of when you might use one of these functions?"
   ]
  },
  {
   "cell_type": "markdown",
   "id": "92e6cb5a-6a5f-4b3b-b651-cd1141955285",
   "metadata": {},
   "source": [
    "Pandas provides many functions to manipulate data in a DataFrame. Here are some common functions that can be used to manipulate data:\n",
    "\n",
    "1. head() and tail(): These functions are used to view the first or last n rows of a DataFrame respectively. They are useful to quickly inspect the structure and contents of a DataFrame."
   ]
  },
  {
   "cell_type": "code",
   "execution_count": 7,
   "id": "0faf3b37-0a91-4130-aaca-bf9746ada400",
   "metadata": {},
   "outputs": [
    {
     "name": "stdout",
     "output_type": "stream",
     "text": [
      "     Name  Age  Gender\n",
      "0  Heramb    3    Male\n",
      "1  Varsha   27  Female\n",
      "2  Chetan   37    Male\n"
     ]
    }
   ],
   "source": [
    "data = {'Name': ['Heramb', 'Varsha', 'Chetan'],\n",
    "        'Age': [3, 27, 37],\n",
    "        'Gender': ['Male', 'Female', 'Male']}\n",
    "df = pd.DataFrame(data)\n",
    "\n",
    "print(df.head())"
   ]
  },
  {
   "cell_type": "markdown",
   "id": "74e76187-543d-4f59-8ce4-694cd2df00cc",
   "metadata": {},
   "source": [
    "2. describe(): This function is used to compute summary statistics of a DataFrame, such as count, mean, standard deviation, minimum, and maximum values. It is useful to quickly get a sense of the distribution and range of values in a DataFrame."
   ]
  },
  {
   "cell_type": "code",
   "execution_count": 8,
   "id": "6d59bd13-31a9-41a7-bab5-091852a5f4a2",
   "metadata": {},
   "outputs": [
    {
     "name": "stdout",
     "output_type": "stream",
     "text": [
      "             Age\n",
      "count   3.000000\n",
      "mean   22.333333\n",
      "std    17.473790\n",
      "min     3.000000\n",
      "25%    15.000000\n",
      "50%    27.000000\n",
      "75%    32.000000\n",
      "max    37.000000\n"
     ]
    }
   ],
   "source": [
    "print(df.describe())"
   ]
  },
  {
   "cell_type": "markdown",
   "id": "2bf64eb5-61e1-4ec4-b759-30a30f32de7d",
   "metadata": {},
   "source": [
    "3. groupby(): This function is used to group rows in a DataFrame based on one or more columns, and apply an aggregation function, such as mean, sum, count, or custom functions, to each group. It is useful to analyze the relationship between different variables in a dataset."
   ]
  },
  {
   "cell_type": "code",
   "execution_count": 9,
   "id": "ded4b0e9-4c5f-40c0-840e-4e2e8f5ecf97",
   "metadata": {},
   "outputs": [
    {
     "name": "stdout",
     "output_type": "stream",
     "text": [
      "Gender\n",
      "Female    27.0\n",
      "Male      20.0\n",
      "Name: Age, dtype: float64\n"
     ]
    }
   ],
   "source": [
    "group = df.groupby('Gender')['Age'].mean()\n",
    "print(group)"
   ]
  },
  {
   "cell_type": "markdown",
   "id": "deeff075-bc89-4622-9388-b1b3c7dee9d3",
   "metadata": {},
   "source": [
    "## Q6. Which of the following is mutable in nature Series, DataFrame, Panel?"
   ]
  },
  {
   "cell_type": "markdown",
   "id": "33457976-8cdd-4876-b0da-ede1d66dff9f",
   "metadata": {},
   "source": [
    "In Pandas, DATA MUTABILITY refers to the ability to change the values within a data structure, while SIZE MUTABILITY refers to the ability to change the size or shape of the data structure itself.\n",
    "\n",
    "All three, that is Series, DataFrame and Panel are DATA MUTABLE, meaning that you can change the values within them, but only DataFrame and Panel are SIZE MUTABLE, meaning that you can change their shape or size."
   ]
  },
  {
   "cell_type": "markdown",
   "id": "c3a9f704-c49d-41c3-8edc-069ade5ca116",
   "metadata": {},
   "source": [
    "## Q7. Create a DataFrame using multiple Series. Explain with an example."
   ]
  },
  {
   "cell_type": "markdown",
   "id": "36f80e27-27db-418f-9152-5fbb77203091",
   "metadata": {},
   "source": [
    "You can create a Pandas DataFrame using multiple Series by passing a dictionary of Series objects to the DataFrame constructor. Each Series represents a column in the resulting DataFrame, and the index of each Series is used to align the data. Here's an example:"
   ]
  },
  {
   "cell_type": "code",
   "execution_count": 14,
   "id": "a7297971-3b21-431d-b79f-a6ec4c412bb2",
   "metadata": {},
   "outputs": [
    {
     "name": "stdout",
     "output_type": "stream",
     "text": [
      "     Name  Age  Gender\n",
      "0  Heramb    3    Male\n",
      "1  Varsha   27  Female\n",
      "2  Chetan   37    Male\n"
     ]
    }
   ],
   "source": [
    "names = pd.Series(['Heramb', 'Varsha', 'Chetan'])\n",
    "ages = pd.Series([3, 27, 37])\n",
    "genders = pd.Series(['Male', 'Female' ,'Male'])\n",
    "\n",
    "# combine the Series objects into a dictionary\n",
    "data = {'Name': names, 'Age': ages, 'Gender': genders}\n",
    "\n",
    "# create the DataFrame\n",
    "df = pd.DataFrame(data)\n",
    "\n",
    "# print the DataFrame\n",
    "print(df)\n",
    "data = {'Name': names, 'Age': ages, 'Gender': genders}\n"
   ]
  },
  {
   "cell_type": "code",
   "execution_count": null,
   "id": "b68ec81c-f925-483f-ad25-2a0323329479",
   "metadata": {},
   "outputs": [],
   "source": []
  }
 ],
 "metadata": {
  "kernelspec": {
   "display_name": "Python 3 (ipykernel)",
   "language": "python",
   "name": "python3"
  },
  "language_info": {
   "codemirror_mode": {
    "name": "ipython",
    "version": 3
   },
   "file_extension": ".py",
   "mimetype": "text/x-python",
   "name": "python",
   "nbconvert_exporter": "python",
   "pygments_lexer": "ipython3",
   "version": "3.10.8"
  }
 },
 "nbformat": 4,
 "nbformat_minor": 5
}
