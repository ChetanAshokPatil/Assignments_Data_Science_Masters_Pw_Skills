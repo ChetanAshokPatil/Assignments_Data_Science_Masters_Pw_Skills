{
 "cells": [
  {
   "cell_type": "markdown",
   "id": "b918e203-1032-4130-80ac-988825a519eb",
   "metadata": {},
   "source": [
    "Que 1  What is a database? Differentiate between SQL and NoSQL databases."
   ]
  },
  {
   "cell_type": "markdown",
   "id": "0c5f16f8-ee2c-4905-acb1-1596d5ae6ccd",
   "metadata": {},
   "source": [
    "Que 1 Answer:\n",
    "A database is a structured collection of data that is organized and stored in a way that allows efficient retrieval and manipulation of that data. Databases can be used to store various types of data, such as text, numbers, images, and other multimedia formats.\n",
    "\n",
    "SQL (Structured Query Language) and NoSQL (Not Only SQL) are two types of databases with different characteristics.\n",
    "\n",
    "SQL databases are relational databases that store data in tables with columns and rows, and use SQL to manipulate and query the data. SQL databases are highly structured and are ideal for applications that require complex querying and transactions, such as e-commerce, financial services, and enterprise applications. Some popular SQL databases include MySQL, Oracle, and PostgreSQL.\n",
    "\n",
    "NoSQL databases, on the other hand, are non-relational databases that store data in a variety of formats, including key-value, document, graph, and column-family models. NoSQL databases are highly scalable and flexible and are ideal for handling unstructured or semi-structured data, such as social media data, mobile application data, and IoT data. Some popular NoSQL databases include MongoDB, Cassandra, and Couchbase.\n",
    "\n",
    "In summary, SQL databases are best suited for applications that require complex transactions and querying, while NoSQL databases are better for handling unstructured or semi-structured data that require high scalability and flexibility."
   ]
  },
  {
   "cell_type": "markdown",
   "id": "f03a3333-5fd8-4d6d-a11a-b5422ed2a8b2",
   "metadata": {},
   "source": [
    "Que 2 What is DDL? Explain why CREATE, DROP, ALTER, and TRUNCATE are used with an example."
   ]
  },
  {
   "cell_type": "markdown",
   "id": "1ff984d5-8cef-45ad-899f-497c7cd78207",
   "metadata": {},
   "source": [
    "Que 2 Answer:\n",
    "DDL stands for Data Definition Language, which is a subset of SQL (Structured Query Language) used to define and manage the structure of database objects such as tables, indexes, and constraints.\n",
    "\n",
    "The four primary commands in DDL are CREATE, DROP, ALTER, and TRUNCATE, and they are used in the following ways:\n",
    "\n",
    "CREATE: The CREATE command is used to create new database objects such as tables, indexes, views, and procedures. For example, the following SQL statement creates a new table named \"employees\" with columns for the employee ID, name, and salary.\n",
    "\n",
    "DROP: The DROP command is used to delete existing database objects. For example, the following SQL statement drops the \"employees\" table.\n",
    "\n",
    "ALTER: The ALTER command is used to modify the structure of existing database objects. For example, the following SQL statement adds a new column \"emp_email\" to the \"employees\" table.\n",
    "\n",
    "TRUNCATE: The TRUNCATE command is used to remove all data from a table, while keeping the table structure intact. For example, the following SQL statement removes all data from the \"employees\" table.What is DML? Explain INSERT, UPDATE, and DELETE with an example.What is DML? Explain INSERT, UPDATE, and DELETE with an example."
   ]
  },
  {
   "cell_type": "markdown",
   "id": "21f57f42-9d07-43a9-8424-92399519fabc",
   "metadata": {},
   "source": [
    "Que 3 What is DML? Explain INSERT, UPDATE, and DELETE with an example."
   ]
  },
  {
   "cell_type": "markdown",
   "id": "ec136373-1d87-4df8-9e3b-6d7d69390c15",
   "metadata": {},
   "source": [
    "Que 3 Answer :\n",
    "DDL stands for Data Definition Language, which is a subset of SQL (Structured Query Language) used to define and manage the structure of database objects such as tables, indexes, and constraints.\n",
    "The four primary commands in DDL are CREATE, DROP, ALTER, and TRUNCATE.\n",
    "\n",
    "CREATE: The CREATE command is used to create new database objects such as tables, indexes, views, and procedures. For example, the following SQL statement creates a new table named \"employees\" with columns for the employee ID, name, and salary.\n",
    "\n",
    "DROP: The DROP command is used to delete existing database objects. For example, the following SQL statement drops the \"employees\" table.\n",
    "\n",
    "ALTER: The ALTER command is used to modify the structure of existing database objects. For example, the following SQL statement adds a new column \"emp_email\" to the \"employees\" table.\n",
    "\n",
    "TRUNCATE: The TRUNCATE command is used to remove all data from a table, while keeping the table structure intact. For example, the following SQL statement removes all data from the \"employees\" table."
   ]
  },
  {
   "cell_type": "markdown",
   "id": "99b2ba00-2cc6-41cb-b687-e9a220df9a9b",
   "metadata": {},
   "source": [
    "Que 4 What is DQL? Explain SELECT with an example."
   ]
  },
  {
   "cell_type": "markdown",
   "id": "2688a965-a30a-4b15-b073-213a6145182e",
   "metadata": {},
   "source": [
    "Que 4 Answer :\n",
    "DQL stands for Data Query Language, which is a subset of SQL (Structured Query Language) used to retrieve data from a database. The most commonly used DQL command is SELECT, which is used to retrieve data from one or more tables in a database."
   ]
  },
  {
   "cell_type": "markdown",
   "id": "ce776393-853c-4683-87e0-87a7c4a15c7c",
   "metadata": {},
   "source": [
    "SELECT column1, column2, ...\n",
    "FROM table_name\n",
    "WHERE condition;"
   ]
  },
  {
   "cell_type": "markdown",
   "id": "7359e15a-7541-4f5b-ab0b-d74b503090ec",
   "metadata": {},
   "source": [
    "In summary, DQL commands are used to retrieve data from a database, and the SELECT command is the most commonly used DQL command that allows you to specify the columns to retrieve, the table to retrieve data from, and the conditions that must be met for the data to be retrieved."
   ]
  },
  {
   "cell_type": "markdown",
   "id": "57385319-1ed7-4c54-ae36-ab5140ab6460",
   "metadata": {},
   "source": [
    "Que 5 Explain Primary Key and Foreign Key."
   ]
  },
  {
   "cell_type": "markdown",
   "id": "aa572f65-dce6-4af2-8676-f1c653fce429",
   "metadata": {},
   "source": [
    "Que 5 Answer :\n",
    "A primary key and a foreign key are both types of constraints in a relational database that ensure data integrity and maintain the relationships between tables.\n",
    "\n",
    "A primary key is a column or set of columns in a table that uniquely identifies each row in the table. It must have a unique value for each row, and it cannot be NULL. By creating a primary key constraint on one or more columns in a table, you can prevent duplicate records and ensure that each record can be uniquely identified. Primary keys are used to enforce data integrity and to establish relationships with other tables in the database. For example, in a database of employees and departments, the primary key of the employees table might be the employee ID column, which is unique for each employee.\n",
    "\n",
    "A foreign key is a column or set of columns in one table that refers to the primary key of another table. It establishes a relationship between two tables, allowing data to be linked and related between the tables. By creating a foreign key constraint, you can ensure that data in the child table (the table containing the foreign key) is consistent with the data in the parent table (the table containing the primary key). For example, in a database of employees and departments, the department ID column in the employees table might be a foreign key that refers to the department ID primary key column in the departments table. This relationship ensures that each employee is associated with a valid department, and prevents orphaned records.    "
   ]
  },
  {
   "cell_type": "markdown",
   "id": "b5f9a5ba-2016-4ad1-bd7b-ffb94e8bdba2",
   "metadata": {},
   "source": [
    "Que 6 Write a python code to connect MySQL to python. Explain the cursor() and execute() method."
   ]
  },
  {
   "cell_type": "code",
   "execution_count": null,
   "id": "3245b124-71ec-4ccc-b0cf-2a4953beed9c",
   "metadata": {},
   "outputs": [],
   "source": [
    "import mysql.connector\n",
    "\n",
    "# Connect to MySQL database\n",
    "mydb = mysql.connector.connect(\n",
    "  host=\"localhost\",\n",
    "  user=\"yourusername\",\n",
    "  password=\"yourpassword\",\n",
    "  database=\"yourdatabase\"\n",
    ")\n",
    "\n",
    "# Create a cursor object\n",
    "mycursor = mydb.cursor()\n",
    "\n",
    "# Execute a SQL query\n",
    "mycursor.execute(\"SELECT * FROM customers\")\n",
    "\n",
    "# Fetch the results of the query\n",
    "myresult = mycursor.fetchall()\n",
    "\n",
    "# Print the results\n",
    "for x in myresult:\n",
    "  print(x)\n"
   ]
  },
  {
   "cell_type": "markdown",
   "id": "3df8741c-9d8f-4645-93f3-d2e6296ee1ee",
   "metadata": {},
   "source": [
    "Que 7 Give the order of execution of SQL clauses in an SQL query."
   ]
  },
  {
   "cell_type": "markdown",
   "id": "54ea63cb-5d64-4ee1-8ffc-3704419695f4",
   "metadata": {},
   "source": [
    "In an SQL query, the clauses are executed in a specific order. The order of execution is as follows:\n",
    "\n",
    "FROM: The FROM clause specifies the table or tables from which to retrieve data.\n",
    "\n",
    "WHERE: The WHERE clause is used to filter the data retrieved from the tables based on a condition.\n",
    "\n",
    "GROUP BY: The GROUP BY clause is used to group the data by one or more columns.\n",
    "\n",
    "HAVING: The HAVING clause is used to filter the grouped data based on a condition.\n",
    "\n",
    "SELECT: The SELECT clause is used to select the columns to retrieve from the tables.\n",
    "\n",
    "DISTINCT: The DISTINCT keyword is used to retrieve only unique values from the selected columns.\n",
    "\n",
    "ORDER BY: The ORDER BY clause is used to sort the data retrieved from the tables based on one or more columns.\n",
    "\n",
    "LIMIT: The LIMIT clause is used to limit the number of rows retrieved from the tables.\n",
    "\n",
    "It's important to note that not all clauses are required in an SQL query. The FROM and SELECT clauses are the minimum required for a valid SQL query. The other clauses can be added based on the specific requirements of the query."
   ]
  },
  {
   "cell_type": "code",
   "execution_count": null,
   "id": "532b194a-f05d-4c10-92ed-1f3550cb89e7",
   "metadata": {},
   "outputs": [],
   "source": []
  }
 ],
 "metadata": {
  "kernelspec": {
   "display_name": "Python 3 (ipykernel)",
   "language": "python",
   "name": "python3"
  },
  "language_info": {
   "codemirror_mode": {
    "name": "ipython",
    "version": 3
   },
   "file_extension": ".py",
   "mimetype": "text/x-python",
   "name": "python",
   "nbconvert_exporter": "python",
   "pygments_lexer": "ipython3",
   "version": "3.10.8"
  }
 },
 "nbformat": 4,
 "nbformat_minor": 5
}
