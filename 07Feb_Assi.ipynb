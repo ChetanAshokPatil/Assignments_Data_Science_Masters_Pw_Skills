{
 "cells": [
  {
   "cell_type": "code",
   "execution_count": 7,
   "id": "c475d66b-cc50-43d4-adef-c343c0ccb889",
   "metadata": {},
   "outputs": [
    {
     "name": "stdin",
     "output_type": "stream",
     "text": [
      "Enter your password:  jdytfuy\n"
     ]
    },
    {
     "name": "stdout",
     "output_type": "stream",
     "text": [
      "Invalid Password\n"
     ]
    }
   ],
   "source": [
    "def validate_Password(password):\n",
    "    \n",
    "    \"\"\"This function helps to check the validity of the password entered\"\"\"\n",
    "    \n",
    "    #Check if the password meets length requirement\n",
    "    if len(password) != 10:\n",
    "        return \"Invalid Password\"\n",
    "    \n",
    "    \n",
    "    upper_count, lower_count, number_count, special_count = 0, 0, 0, 0\n",
    "    \n",
    "    #Find the count of lowercase, uppercase, numbers and special characters\n",
    "    for char in password:\n",
    "        if char.isupper():\n",
    "            upper_count += 1\n",
    "        \n",
    "        elif char.islower():\n",
    "            lower_count += 1\n",
    "            \n",
    "        elif char.isdigit():\n",
    "            number_count += 1\n",
    "            \n",
    "        else:\n",
    "            special_count += 1\n",
    "            \n",
    "    #Check if the password meets the desired criteria       \n",
    "    if upper_count >= 2 and lower_count >=2 and number_count >=1 and special_count >=3:\n",
    "        return \"Valid Password\"\n",
    "    \n",
    "    else:\n",
    "        return \"Invalid Password\"\n",
    "    \n",
    "# Driver code\n",
    "password = input(\"Enter your password: \")\n",
    "validity = validate_Password(password)\n",
    "print(validity)"
   ]
  },
  {
   "cell_type": "markdown",
   "id": "88a20b17-5918-4eef-a146-53e6aa11c3cd",
   "metadata": {},
   "source": [
    "Que 2 Answer :"
   ]
  },
  {
   "cell_type": "markdown",
   "id": "6eda67e9-157c-4142-9c5e-768b462cfe1a",
   "metadata": {},
   "source": [
    "Check if the string starts with a particular letter"
   ]
  },
  {
   "cell_type": "code",
   "execution_count": 8,
   "id": "0f30e92f-1514-48a5-ae2d-5ddc38d34f32",
   "metadata": {},
   "outputs": [
    {
     "name": "stdin",
     "output_type": "stream",
     "text": [
      "Enter string:  chetan\n",
      "Enter letter:  c\n"
     ]
    },
    {
     "name": "stdout",
     "output_type": "stream",
     "text": [
      "'chetan' starts with 'c'!\n"
     ]
    }
   ],
   "source": [
    "# with lambda function\n",
    "check_start = lambda string, letter: string.startswith(letter)\n",
    "\n",
    "string = input(\"Enter string: \")\n",
    "letter = input(\"Enter letter: \")\n",
    "if check_start(string, letter):\n",
    "    print(f\"'{string}' starts with '{letter}'!\")\n",
    "else:\n",
    "    print(f\"'{string}' does not starts with '{letter}'!\")"
   ]
  },
  {
   "cell_type": "code",
   "execution_count": 9,
   "id": "0655164a-187f-474a-8272-f6a05f6383be",
   "metadata": {},
   "outputs": [
    {
     "name": "stdin",
     "output_type": "stream",
     "text": [
      "Enter string:  heramb\n",
      "Enter letter:  n\n"
     ]
    },
    {
     "name": "stdout",
     "output_type": "stream",
     "text": [
      "'heramb' does not starts with 'n'!\n"
     ]
    }
   ],
   "source": [
    "check_start = lambda string, letter: string.startswith(letter)\n",
    "\n",
    "string = input(\"Enter string: \")\n",
    "letter = input(\"Enter letter: \")\n",
    "if check_start(string, letter):\n",
    "    print(f\"'{string}' starts with '{letter}'!\")\n",
    "else:\n",
    "    print(f\"'{string}' does not starts with '{letter}'!\")"
   ]
  },
  {
   "cell_type": "markdown",
   "id": "e518d92d-5fd4-42ca-8202-0a810560fee8",
   "metadata": {},
   "source": [
    " Check if the string is numeric"
   ]
  },
  {
   "cell_type": "code",
   "execution_count": 24,
   "id": "9ec0294c-e0e3-443f-ae55-0fc25b7f09ce",
   "metadata": {},
   "outputs": [
    {
     "name": "stdin",
     "output_type": "stream",
     "text": [
      "Enter string:  654\n"
     ]
    },
    {
     "name": "stdout",
     "output_type": "stream",
     "text": [
      "654 is numeric!\n"
     ]
    }
   ],
   "source": [
    "is_numeric = lambda string : string.isnumeric()\n",
    "string = input(\"Enter string: \")\n",
    "if is_numeric(string):\n",
    "    print(f\"{string} is numeric!\")\n",
    "else:\n",
    "    print(f\"{string} is not numeric!\")"
   ]
  },
  {
   "cell_type": "code",
   "execution_count": 25,
   "id": "07189e94-74fb-46f4-882c-f9f47f4391b7",
   "metadata": {},
   "outputs": [
    {
     "name": "stdin",
     "output_type": "stream",
     "text": [
      "Enter string:  jfhd\n"
     ]
    },
    {
     "name": "stdout",
     "output_type": "stream",
     "text": [
      "jfhd is not numeric!\n"
     ]
    }
   ],
   "source": [
    "is_numeric = lambda string : string.isnumeric()\n",
    "string = input(\"Enter string: \")\n",
    "if is_numeric(string):\n",
    "    print(f\"{string} is numeric!\")\n",
    "else:\n",
    "    print(f\"{string} is not numeric!\")"
   ]
  },
  {
   "cell_type": "markdown",
   "id": "982a6875-6304-42e9-8308-a01052e9fbab",
   "metadata": {},
   "source": [
    " Sort a list of tuples having fruit names and their quantity"
   ]
  },
  {
   "cell_type": "code",
   "execution_count": 13,
   "id": "4e50f253-a78f-4d26-bea1-0ee70debee22",
   "metadata": {},
   "outputs": [
    {
     "name": "stdout",
     "output_type": "stream",
     "text": [
      "Fruits increasingly sorted according to quantity: [('orange', 80), ('mango', 99), ('grapes', 1000)]\n"
     ]
    }
   ],
   "source": [
    "fruits = [(\"mango\",99),(\"orange\",80), (\"grapes\", 1000)]\n",
    "fruits.sort(key = lambda ele : ele[1])\n",
    "print(f\"Fruits increasingly sorted according to quantity: {fruits}\")"
   ]
  },
  {
   "cell_type": "markdown",
   "id": "fbda567b-1f59-4918-adba-6e654a0bf595",
   "metadata": {},
   "source": [
    "Find the squares of numbers from 1 to 10"
   ]
  },
  {
   "cell_type": "code",
   "execution_count": 14,
   "id": "34c5ee5d-ff1e-483a-8a19-3cb5c61844fa",
   "metadata": {},
   "outputs": [
    {
     "name": "stdout",
     "output_type": "stream",
     "text": [
      "The squares of number from 1-10: [1, 4, 9, 16, 25, 36, 49, 64, 81, 100]\n"
     ]
    }
   ],
   "source": [
    "num_square = list(map(lambda num : num ** 2, range(1,11)))\n",
    "print(f\"The squares of number from 1-10: {num_square}\")"
   ]
  },
  {
   "cell_type": "markdown",
   "id": "c922811a-e5f1-4fac-8d09-ce4c1ffe8af4",
   "metadata": {},
   "source": [
    " Find the cube root of numbers from 1 to 10"
   ]
  },
  {
   "cell_type": "code",
   "execution_count": 15,
   "id": "d0ed95f7-d912-4daa-9c4d-1556e77cb995",
   "metadata": {},
   "outputs": [
    {
     "name": "stdout",
     "output_type": "stream",
     "text": [
      "The cube root from 1-10: [1.0, 1.26, 1.44, 1.59, 1.71, 1.82, 1.91, 2.0, 2.08, 2.15]\n"
     ]
    }
   ],
   "source": [
    "cube_root = list(map(lambda num : round(num ** (1/3), 2), range(1,11)))\n",
    "print(f\"The cube root from 1-10: {cube_root}\")"
   ]
  },
  {
   "cell_type": "markdown",
   "id": "27da6719-451b-4746-8af6-c39989bcb02b",
   "metadata": {},
   "source": [
    "Check if a given number is even"
   ]
  },
  {
   "cell_type": "code",
   "execution_count": 16,
   "id": "b0a7defb-c4dc-4634-b567-24353e009224",
   "metadata": {},
   "outputs": [
    {
     "name": "stdin",
     "output_type": "stream",
     "text": [
      "Enter a number:  4\n"
     ]
    },
    {
     "name": "stdout",
     "output_type": "stream",
     "text": [
      "4 is a EVEN number\n"
     ]
    }
   ],
   "source": [
    "check_even = lambda num : num % 2 == 0\n",
    "num = int(input(\"Enter a number: \"))\n",
    "if check_even(num):\n",
    "    print(f\"{num} is a EVEN number\")\n",
    "else:\n",
    "    print(f\"{num} is a NOT a even number\")"
   ]
  },
  {
   "cell_type": "code",
   "execution_count": 18,
   "id": "2af2a209-2d1e-4b51-b1e5-e8386dabe8e5",
   "metadata": {},
   "outputs": [
    {
     "name": "stdin",
     "output_type": "stream",
     "text": [
      "Enter a number:  5\n"
     ]
    },
    {
     "name": "stdout",
     "output_type": "stream",
     "text": [
      "5 is a NOT a even number\n"
     ]
    }
   ],
   "source": [
    "check_even = lambda num : num % 2 == 0\n",
    "num = int(input(\"Enter a number: \"))\n",
    "if check_even(num):\n",
    "    print(f\"{num} is a EVEN number\")\n",
    "else:\n",
    "    print(f\"{num} is a NOT a even number\")"
   ]
  },
  {
   "cell_type": "markdown",
   "id": "be15f323-3386-4801-a208-1c2e700e2522",
   "metadata": {},
   "source": [
    "Filter odd numbers from the given list."
   ]
  },
  {
   "cell_type": "code",
   "execution_count": 20,
   "id": "481d5bd7-0a31-4997-bdc9-e47d56c61891",
   "metadata": {},
   "outputs": [
    {
     "name": "stdout",
     "output_type": "stream",
     "text": [
      "Odd numbers: [1, 3, 5, 7, 9]\n"
     ]
    }
   ],
   "source": [
    "l = [1,2,3,4,5,6,7,8,9,10]\n",
    "odd_numbers = list(filter(lambda x : x&1, l ))\n",
    "print(f\"Odd numbers: {odd_numbers}\")"
   ]
  },
  {
   "cell_type": "markdown",
   "id": "90061bf9-45dc-4055-88f3-a436360725c5",
   "metadata": {},
   "source": [
    " Sort a list of integers into positive and negative integers lists."
   ]
  },
  {
   "cell_type": "code",
   "execution_count": 21,
   "id": "df2240f6-2708-4abb-a44e-07dd58b83473",
   "metadata": {},
   "outputs": [
    {
     "name": "stdout",
     "output_type": "stream",
     "text": [
      "Positive list: [1, 2, 3, 4, 5, 6]\n",
      "Negative list: [-1, -2, -3, -4, -5]\n"
     ]
    }
   ],
   "source": [
    "def sort_list(lst):\n",
    "    \n",
    "    p_list = [num for num in lst if num > 0]\n",
    "    n_list = [num for num in lst if num < 0]\n",
    "    \n",
    "    return p_list, n_list\n",
    "\n",
    "lst = [1,2,3,4,5,6,-1,-2,-3,-4,-5,0]\n",
    "p_list, n_list = sort_list(lst)\n",
    "print(f\"Positive list: {p_list}\")\n",
    "print(f\"Negative list: {n_list}\")"
   ]
  },
  {
   "cell_type": "code",
   "execution_count": null,
   "id": "2ae11415-2a8e-4897-b1bb-7f4fa959d17d",
   "metadata": {},
   "outputs": [],
   "source": []
  }
 ],
 "metadata": {
  "kernelspec": {
   "display_name": "Python 3 (ipykernel)",
   "language": "python",
   "name": "python3"
  },
  "language_info": {
   "codemirror_mode": {
    "name": "ipython",
    "version": 3
   },
   "file_extension": ".py",
   "mimetype": "text/x-python",
   "name": "python",
   "nbconvert_exporter": "python",
   "pygments_lexer": "ipython3",
   "version": "3.10.8"
  }
 },
 "nbformat": 4,
 "nbformat_minor": 5
}
